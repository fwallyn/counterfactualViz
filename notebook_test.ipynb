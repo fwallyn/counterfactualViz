{
 "cells": [
  {
   "cell_type": "code",
   "execution_count": 2,
   "metadata": {},
   "outputs": [
    {
     "name": "stderr",
     "output_type": "stream",
     "text": [
      "/Users/francoiswallyn/Desktop/ENSAI/2A/Stage/irisa/stage_irisa/test_web_stage/counterfactualViz/lib/python3.7/site-packages/tqdm/auto.py:22: TqdmWarning: IProgress not found. Please update jupyter and ipywidgets. See https://ipywidgets.readthedocs.io/en/stable/user_install.html\n",
      "  from .autonotebook import tqdm as notebook_tqdm\n"
     ]
    }
   ],
   "source": [
    "from flask import Flask, jsonify, render_template,request\n",
    "import pandas as pd\n",
    "import numpy as np\n",
    "import json\n",
    "\n",
    "from tabular_data_framework.vcnet_tabular_data_v0.join_training_network import CVAE_join\n",
    "from tabular_data_framework.vcnet_tabular_data_v0.train_network import Train_CVAE \n",
    "from tabular_data_framework.load_data import Load_dataset_base,load_data_dict\n",
    "from tabular_data_framework.vcnet_tabular_data_v0.load_config import Load_config,load_config_dict\n",
    "from tabular_data_framework.import_essentials import *\n",
    "from tabular_data_framework.utils import *"
   ]
  },
  {
   "cell_type": "code",
   "execution_count": 9,
   "metadata": {},
   "outputs": [],
   "source": [
    "def result_to_d3(result:Dict):\n",
    "    data = {}\n",
    "    data[\"col\"] = result[\"X_original_space\"].columns.tolist()\n",
    "    data[\"X\"] = result[\"X_original_space\"].values.transpose().tolist()\n",
    "    data[\"cf\"] = result[\"cf_original_space\"].values.transpose().tolist()\n",
    "    data[\"y_x\"] = result[\"y_x\"].cpu().tolist()\n",
    "    data[\"y_c\"] = result[\"y_c\"].cpu().tolist()\n",
    "    data[\"proba_x\"] = result[\"proba_x\"].cpu().tolist()\n",
    "    data[\"proba_c\"] = result[\"proba_c\"].cpu().tolist()\n",
    "    return data\n",
    "\n",
    "def prepare_new_data(dataset:Load_dataset_base,newdata:pd.DataFrame):\n",
    "    \n",
    "        def split_x_and_y(data):\n",
    "            X = data[data.columns[:-1]]\n",
    "            y = data[data.columns[-1]]\n",
    "            return X, y\n",
    "        X, y = split_x_and_y(newdata)\n",
    "        # preprocessing \n",
    "        normalizer = dataset.normalizer\n",
    "        encoder = dataset.encoder\n",
    "        X_cont = normalizer.transform(X[dataset.continous_cols]) if dataset.continous_cols else np.array([[] for _ in range(len(X))])\n",
    "        \n",
    "        X_cat = encoder.transform(X[dataset.discret_cols]) if dataset.discret_cols else np.array([[] for _ in range(len(X))])\n",
    "        X = np.concatenate((X_cont, X_cat), axis=1)        \n",
    "        # Number of continious variables \n",
    "        newdata_np = NumpyDataset(X, y.to_numpy())                \n",
    "        return newdata_np\n",
    "\n",
    "def compute_counterfactuals(X):\n",
    "    name = \"churn\"\n",
    "    # Load the model parameters in a dict \n",
    "    model_config_dict = load_config_dict(name)\n",
    "    model_config = Load_config(model_config_dict)\n",
    "\n",
    "    # Load the dataset parameters in a dict \n",
    "    dataset_config_dict = load_data_dict(name)\n",
    "    # Create a load dataset object \n",
    "    dataset = Load_dataset_base(dataset_config_dict,model_config_dict,subsample=False)\n",
    "\n",
    "    # Prepare dataset and return dataloaders + ohe index \n",
    "    loaders,cat_arrays,cont_shape = dataset.prepare_data()\n",
    "    debug_enc = False \n",
    "    training = Train_CVAE(dataset_config_dict,model_config_dict,cat_arrays,cont_shape,loaders,dataset,ablation=None,condition=\"change_dec_only\",cuda_name=\"cpu\",shared_layers=True,debug_enc=debug_enc)\n",
    "    #training.train_and_valid_cvae(tensorboard=True)\n",
    "    training.load_weights(dataset.name)\n",
    "    X_np,y_np = prepare_new_data(dataset,X)[:]\n",
    "    data_prob = {}\n",
    "    for p in [x * 0.1 for x in range(0, 11)]:\n",
    "        proba = torch.tensor([[p for i in range(X_np.shape[0])]]).T\n",
    "        # Compute counterfactuals \n",
    "        results = training.compute_counterfactuals_custom_proba(X_np.to(training.cuda_device), y_np.to(training.cuda_device),proba=proba,laugel_metric=False)\n",
    "        eps = 0.01\n",
    "        results = training.round_counterfactuals(results,eps,X_np)[0]\n",
    "        # Round numerical values and check if counterfactuals are still valid \n",
    "        from tabular_data_framework.utils import check_min_max_scaler,int_round_dataset,round_counterfactuals\n",
    "        # dico of columns we want as rounded variables (here rounded is done to obtain int)\n",
    "        dico_round = {\"tenure\" : None, \"MonthlyCharges\" : 2, \"TotalCharges\" : 2 }\n",
    "        results_rounded = round_counterfactuals(X_np,results,dataset,training,dico_round)\n",
    "        data_prob[f\"{round(p,1)}\"] = result_to_d3(results_rounded)\n",
    "    return data_prob   \n"
   ]
  },
  {
   "cell_type": "code",
   "execution_count": 50,
   "metadata": {},
   "outputs": [],
   "source": [
    "def numpy_to_dataframe(X,counterfactuals,dataset) :\n",
    "    # Back to the original space \n",
    "    original_examples = dataset.inverse_transform(X,return_tensor=False)\n",
    "    original_counterfactuals = dataset.inverse_transform(counterfactuals,return_tensor=False)\n",
    "    #print(\"ORIGINAL\",original_counterfactuals)\n",
    "    # Transform do dataframe\n",
    "    df_example = pd.DataFrame(data=original_examples,columns=dataset.continous_cols + dataset.discret_cols)\n",
    "    df_counterfactuals = pd.DataFrame(data=original_counterfactuals,columns=dataset.continous_cols + dataset.discret_cols)\n",
    "    #print(\"df_counterfactuals1\",df_counterfactuals[\"PaperlessBilling\"])\n",
    "    # Select same order for categorical variable (for counterfactuals and examples)\n",
    "    for col in dataset.discret_cols : \n",
    "        df_example[col] = pd.Categorical(df_example[col],pd.unique(df_example[col]))\n",
    "        df_counterfactuals[col] = pd.Categorical(df_counterfactuals[col],pd.unique(df_counterfactuals[col]))\n",
    "    #print(\"df_counterfactuals2\",df_counterfactuals[\"PaperlessBilling\"])\n",
    "    return(df_example,df_counterfactuals)"
   ]
  },
  {
   "cell_type": "code",
   "execution_count": 12,
   "metadata": {},
   "outputs": [
    {
     "name": "stdout",
     "output_type": "stream",
     "text": [
      "Percentage of valid counterfactuals : 0.0\n",
      "Percentage of valid counterfactuals : 0.0\n",
      "Percentage of valid counterfactuals : 0.0\n",
      "Percentage of valid counterfactuals : 0.0\n",
      "Percentage of valid counterfactuals : 1.0\n",
      "Percentage of valid counterfactuals : 1.0\n",
      "Percentage of valid counterfactuals : 1.0\n",
      "Percentage of valid counterfactuals : 1.0\n",
      "Percentage of valid counterfactuals : 1.0\n",
      "Percentage of valid counterfactuals : 1.0\n",
      "Percentage of valid counterfactuals : 1.0\n",
      "dict_keys(['col', 'X', 'cf', 'y_x', 'y_c', 'proba_x', 'proba_c'])\n"
     ]
    }
   ],
   "source": [
    "\n",
    "example = {'gender': ['Male'], 'SeniorCitizen': ['0'], 'Partner': ['Yes'], 'Dependents': ['Yes'], 'tenure': ['1'], 'MonthlyCharges': ['20'], 'TotalCharges': ['250'], 'PhoneService': ['Yes'], 'MultipleLines': ['Yes'], 'InternetService': ['No'], 'OnlineSecurity': ['Yes'], 'DeviceProtection': ['Yes'], 'OnlineBackup': ['Yes'], 'TechSupport': ['Yes'], 'StreamingTV': ['Yes'], 'StreamingMovies': ['Yes'], 'Contract': ['Month-to-month'], 'PaperlessBilling': ['Yes'], 'PaymentMethod': ['Bank transfer (automatic)']}\n",
    "X = pd.DataFrame.from_dict(example)\n",
    "X['Churn'] = 1\n",
    "X = X.astype({'SeniorCitizen': 'int64','tenure':'int64','MonthlyCharges':\"float64\",'TotalCharges':'float64'})\n",
    "counterfactuals = compute_counterfactuals(X)\n",
    "print(counterfactuals[\"0.0\"].keys())"
   ]
  },
  {
   "cell_type": "code",
   "execution_count": 51,
   "metadata": {},
   "outputs": [
    {
     "name": "stdout",
     "output_type": "stream",
     "text": [
      "Percentage of valid counterfactuals : 0.0\n",
      "      tenure MonthlyCharges TotalCharges  gender SeniorCitizen Partner  \\\n",
      "0  38.905725      59.422038  2678.851969  Female             0     Yes   \n",
      "\n",
      "  Dependents PhoneService MultipleLines InternetService OnlineSecurity  \\\n",
      "0         No          Yes            No     Fiber optic             No   \n",
      "\n",
      "  OnlineBackup DeviceProtection TechSupport          StreamingTV  \\\n",
      "0          Yes              Yes         Yes  No internet service   \n",
      "\n",
      "       StreamingMovies  Contract PaperlessBilling PaymentMethod  \n",
      "0  No internet service  One year               No  Mailed check  \n"
     ]
    }
   ],
   "source": [
    "name = \"churn\"\n",
    "# Load the model parameters in a dict \n",
    "model_config_dict = load_config_dict(name)\n",
    "model_config = Load_config(model_config_dict)\n",
    "\n",
    "# Load the dataset parameters in a dict \n",
    "dataset_config_dict = load_data_dict(name)\n",
    "# Create a load dataset object \n",
    "dataset = Load_dataset_base(dataset_config_dict,model_config_dict,subsample=False)\n",
    "\n",
    "# Prepare dataset and return dataloaders + ohe index \n",
    "loaders,cat_arrays,cont_shape = dataset.prepare_data()\n",
    "debug_enc = False \n",
    "training = Train_CVAE(dataset_config_dict,model_config_dict,cat_arrays,cont_shape,loaders,dataset,ablation=None,condition=\"change_dec_only\",cuda_name=\"cpu\",shared_layers=True,debug_enc=debug_enc)\n",
    "#training.train_and_valid_cvae(tensorboard=True)\n",
    "training.load_weights(dataset.name)\n",
    "X_np,y_np = prepare_new_data(dataset,X)[:]\n",
    "proba = torch.tensor([[0.1 for i in range(X.shape[0])]]).T\n",
    "results = training.compute_counterfactuals_custom_proba(X_np.to(training.cuda_device), y_np.to(training.cuda_device),proba=proba,laugel_metric=False)\n",
    "eps = 0.01\n",
    "results = training.round_counterfactuals(results,eps,X_np)[0]\n",
    "np_data = numpy_to_dataframe(X_np,results[\"cf\"],dataset)\n",
    "print(np_data[1])\n"
   ]
  }
 ],
 "metadata": {
  "interpreter": {
   "hash": "007a12accbafc83e05ecab246ab60a3a0adb420c717cbcd8eac46eab319e7e55"
  },
  "kernelspec": {
   "display_name": "Python 3.7.4 ('counterfactualViz': venv)",
   "language": "python",
   "name": "python3"
  },
  "language_info": {
   "codemirror_mode": {
    "name": "ipython",
    "version": 3
   },
   "file_extension": ".py",
   "mimetype": "text/x-python",
   "name": "python",
   "nbconvert_exporter": "python",
   "pygments_lexer": "ipython3",
   "version": "3.7.4"
  },
  "orig_nbformat": 4
 },
 "nbformat": 4,
 "nbformat_minor": 2
}
